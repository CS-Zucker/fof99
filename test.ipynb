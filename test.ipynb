{
 "cells": [
  {
   "cell_type": "code",
   "execution_count": 35,
   "metadata": {},
   "outputs": [],
   "source": [
    "import pandas as pd\n",
    "import numpy as np\n",
    "import matplotlib.pyplot as plt"
   ]
  },
  {
   "cell_type": "code",
   "execution_count": 36,
   "metadata": {},
   "outputs": [],
   "source": [
    "%matplotlib inline\n",
    "\n",
    "# 设置绘图风格\n",
    "plt.style.use('seaborn')\n",
    "\n",
    "# 解决中文乱码等问题\n",
    "plt.rcParams[\"font.sans-serif\"] = [\"SIMHEI\"]\n",
    "plt.rcParams[\"axes.unicode_minus\"] = False"
   ]
  },
  {
   "cell_type": "code",
   "execution_count": 37,
   "metadata": {},
   "outputs": [],
   "source": [
    "df = pd.read_excel(\"佑维CTA进取三号净值20230823.xlsx\")\n",
    "\n",
    "# 将日期列转换为日期类型\n",
    "df['日期'] = pd.to_datetime(df['日期'])\n",
    "df.set_index(\"日期\", inplace=True)\n",
    "\n",
    "# 净值分类\n",
    "jz_type = \"复权净值\"\n"
   ]
  },
  {
   "cell_type": "code",
   "execution_count": 38,
   "metadata": {},
   "outputs": [
    {
     "name": "stdout",
     "output_type": "stream",
     "text": [
      "年化波动率: 0.9979906230268677\n",
      "夏普比率: 0.10621751479521056\n"
     ]
    }
   ],
   "source": [
    "# 计算成立以来收益率(每周)\n",
    "df['每周收益率'] = (df[jz_type] - df[jz_type].iloc[-1]) / df[jz_type].iloc[-1]\n",
    "\n",
    "# 计算年化收益率(每周)\n",
    "def date_diff(last_date,first_date):\n",
    "    return (last_date- first_date).days + 1\n",
    "df['年化收益率'] = ((1 + df['每周收益率']) ** (365 / date_diff(df.index, df.index[-1]))) - 1\n",
    "\n",
    "\n",
    "# 年化收益率\n",
    "annual_return = df[\"年化收益率\"].mean()\n",
    "# 年化标准差\n",
    "annual_std = df[\"年化收益率\"].std()\n",
    "\n",
    "\n",
    "annual_ra = df[\"每周收益率\"].std() * np.sqrt(52)\n",
    "\n",
    "# 计算夏普比率（Rf=2.00%）\n",
    "rf = 0.02\n",
    "sharpe_ratio = (annual_return - rf) / annual_std\n",
    "\n",
    "\n",
    "print(\"年化波动率:\", annual_ra)\n",
    "print(\"夏普比率:\", sharpe_ratio)"
   ]
  },
  {
   "cell_type": "code",
   "execution_count": 39,
   "metadata": {},
   "outputs": [
    {
     "name": "stdout",
     "output_type": "stream",
     "text": [
      "年化波动率: 0.29613567107608096\n"
     ]
    }
   ],
   "source": [
    "\n",
    "# 计算收益率\n",
    "df['收益率'] = df['复权净值'].pct_change()\n",
    "\n",
    "\n",
    "annual_ra = df[\"收益率\"].std() * np.sqrt(52)\n",
    "\n",
    "\n",
    "print(\"年化波动率:\", annual_ra)\n"
   ]
  }
 ],
 "metadata": {
  "kernelspec": {
   "display_name": "base",
   "language": "python",
   "name": "python3"
  },
  "language_info": {
   "codemirror_mode": {
    "name": "ipython",
    "version": 3
   },
   "file_extension": ".py",
   "mimetype": "text/x-python",
   "name": "python",
   "nbconvert_exporter": "python",
   "pygments_lexer": "ipython3",
   "version": "3.7.10"
  },
  "orig_nbformat": 4
 },
 "nbformat": 4,
 "nbformat_minor": 2
}
